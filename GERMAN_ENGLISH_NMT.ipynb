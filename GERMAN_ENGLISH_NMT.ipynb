{
  "nbformat": 4,
  "nbformat_minor": 0,
  "metadata": {
    "colab": {
      "name": "GERMAN_ENGLISH_NMT",
      "provenance": [],
      "authorship_tag": "ABX9TyOSIb4D7snaXDJpOcFwIztc",
      "include_colab_link": true
    },
    "kernelspec": {
      "name": "python3",
      "display_name": "Python 3"
    }
  },
  "cells": [
    {
      "cell_type": "markdown",
      "metadata": {
        "id": "view-in-github",
        "colab_type": "text"
      },
      "source": [
        "<a href=\"https://colab.research.google.com/github/shailavij/Neural_translational_Model/blob/master/GERMAN_ENGLISH_NMT.ipynb\" target=\"_parent\"><img src=\"https://colab.research.google.com/assets/colab-badge.svg\" alt=\"Open In Colab\"/></a>"
      ]
    },
    {
      "cell_type": "markdown",
      "metadata": {
        "id": "tPBquAxvWXtw",
        "colab_type": "text"
      },
      "source": [
        "#Capstone project \n",
        "# Neural Translation model\n",
        "This neural network that translates from German to English"
      ]
    },
    {
      "cell_type": "code",
      "metadata": {
        "id": "F-V-HVGoWiVQ",
        "colab_type": "code",
        "colab": {
          "base_uri": "https://localhost:8080/",
          "height": 34
        },
        "outputId": "2d8b43c3-cc90-4e55-b994-c279a4e8689b"
      },
      "source": [
        "import string\n",
        "import re\n",
        "from numpy import array, argmax, random, take\n",
        "import pandas as pd\n",
        "from keras.models import Sequential\n",
        "from keras.layers import Dense, LSTM, Embedding, Bidirectional, RepeatVector, TimeDistributed\n",
        "from keras.preprocessing.text import Tokenizer\n",
        "from keras.callbacks import ModelCheckpoint\n",
        "from keras.preprocessing.sequence import pad_sequences\n",
        "from keras.models import load_model\n",
        "from keras import optimizers\n",
        "import matplotlib.pyplot as plt\n",
        "% matplotlib inline\n",
        "pd.set_option('display.max_colwidth', 200)"
      ],
      "execution_count": 1,
      "outputs": [
        {
          "output_type": "stream",
          "text": [
            "Using TensorFlow backend.\n"
          ],
          "name": "stderr"
        }
      ]
    },
    {
      "cell_type": "code",
      "metadata": {
        "id": "fIERN_9RWlc2",
        "colab_type": "code",
        "colab": {
          "base_uri": "https://localhost:8080/",
          "height": 125
        },
        "outputId": "bdda755c-38f7-4d54-e064-e36c79aa75c4"
      },
      "source": [
        "# Run this cell to connect to your Drive folder\n",
        "\n",
        "from google.colab import drive\n",
        "drive.mount('/content/gdrive')"
      ],
      "execution_count": 2,
      "outputs": [
        {
          "output_type": "stream",
          "text": [
            "Go to this URL in a browser: https://accounts.google.com/o/oauth2/auth?client_id=947318989803-6bn6qk8qdgf4n4g3pfee6491hc0brc4i.apps.googleusercontent.com&redirect_uri=urn%3aietf%3awg%3aoauth%3a2.0%3aoob&response_type=code&scope=email%20https%3a%2f%2fwww.googleapis.com%2fauth%2fdocs.test%20https%3a%2f%2fwww.googleapis.com%2fauth%2fdrive%20https%3a%2f%2fwww.googleapis.com%2fauth%2fdrive.photos.readonly%20https%3a%2f%2fwww.googleapis.com%2fauth%2fpeopleapi.readonly\n",
            "\n",
            "Enter your authorization code:\n",
            "··········\n",
            "Mounted at /content/gdrive\n"
          ],
          "name": "stdout"
        }
      ]
    },
    {
      "cell_type": "code",
      "metadata": {
        "id": "VQHZ3n34WoFv",
        "colab_type": "code",
        "colab": {
          "base_uri": "https://localhost:8080/",
          "height": 34
        },
        "outputId": "5a52d9e2-68e0-4b19-daba-8b4a844b2d4b"
      },
      "source": [
        "%cd /content/gdrive/My Drive/DL_DATASet/"
      ],
      "execution_count": 3,
      "outputs": [
        {
          "output_type": "stream",
          "text": [
            "/content/gdrive/My Drive/DL_DATASet\n"
          ],
          "name": "stdout"
        }
      ]
    },
    {
      "cell_type": "markdown",
      "metadata": {
        "id": "iU-AP_fEWs26",
        "colab_type": "text"
      },
      "source": [
        "# Read Data\n",
        "Our data is a text file of English-German sentence pairs. First we will read the file using the function defined below.\n"
      ]
    },
    {
      "cell_type": "code",
      "metadata": {
        "id": "8BpMUKRXWo2G",
        "colab_type": "code",
        "colab": {}
      },
      "source": [
        "# function to read raw text file\n",
        "def read_text(filename):\n",
        "    # open the file\n",
        "    file = open(filename, mode='rt', encoding='utf-8')\n",
        "    # read all text\n",
        "    text = file.read()\n",
        "    file.close()\n",
        "    return text"
      ],
      "execution_count": 0,
      "outputs": []
    },
    {
      "cell_type": "markdown",
      "metadata": {
        "id": "nP2PQdCRW3Xs",
        "colab_type": "text"
      },
      "source": [
        "Now let's define a function to split the text into English-German pairs separated by '\\t'\n",
        "\n"
      ]
    },
    {
      "cell_type": "code",
      "metadata": {
        "id": "hoaABGzgW1M4",
        "colab_type": "code",
        "colab": {}
      },
      "source": [
        "# Split the text into sentences\n",
        "def to_lines(text):\n",
        "    sents = text.strip().split('\\n')\n",
        "    sents = [i.split('\\t') for i in sents]\n",
        "    return sents"
      ],
      "execution_count": 0,
      "outputs": []
    },
    {
      "cell_type": "code",
      "metadata": {
        "id": "LQ3eF3t1W-FS",
        "colab_type": "code",
        "colab": {
          "base_uri": "https://localhost:8080/",
          "height": 70
        },
        "outputId": "34d3e4d3-658e-4078-b0da-75fe7dd2d483"
      },
      "source": [
        "from numpy import array, argmax, random, take\n",
        "\n",
        "data=read_text('deu.txt')\n",
        "deu_eng= to_lines(data)\n",
        "deu_eng = array(deu_eng)\n",
        "deu_eng= deu_eng[:50000,:]\n",
        "len(deu_eng)\n",
        "\n",
        "deu_eng[0]\n",
        "\n"
      ],
      "execution_count": 22,
      "outputs": [
        {
          "output_type": "execute_result",
          "data": {
            "text/plain": [
              "array(['Hi.', 'Hallo!',\n",
              "       'CC-BY 2.0 (France) Attribution: tatoeba.org #538123 (CM) & #380701 (cburgmer)'],\n",
              "      dtype='<U537')"
            ]
          },
          "metadata": {
            "tags": []
          },
          "execution_count": 22
        }
      ]
    },
    {
      "cell_type": "code",
      "metadata": {
        "id": "9LjQqb0YXE8R",
        "colab_type": "code",
        "colab": {}
      },
      "source": [
        "# Remove punctuation\n",
        "deu_eng[:,0] = [s.translate(str.maketrans('', '', string.punctuation)) for s in deu_eng[:,0]]\n",
        "deu_eng[:,1] = [s.translate(str.maketrans('', '', string.punctuation)) for s in deu_eng[:,1]]"
      ],
      "execution_count": 0,
      "outputs": []
    },
    {
      "cell_type": "code",
      "metadata": {
        "id": "5OPFWaz5XIOA",
        "colab_type": "code",
        "colab": {}
      },
      "source": [
        "deu_eng= deu_eng[:,0:2]"
      ],
      "execution_count": 0,
      "outputs": []
    },
    {
      "cell_type": "code",
      "metadata": {
        "id": "sAOeG6lGXKlr",
        "colab_type": "code",
        "colab": {}
      },
      "source": [
        "# convert to lowercase\n",
        "for i in range(len(deu_eng)):\n",
        "    deu_eng[i,0] = deu_eng[i,0].lower()\n",
        "    \n",
        "    deu_eng[i,1] = deu_eng[i,1].lower()"
      ],
      "execution_count": 0,
      "outputs": []
    },
    {
      "cell_type": "code",
      "metadata": {
        "id": "JeJep-DcYnPC",
        "colab_type": "code",
        "colab": {
          "base_uri": "https://localhost:8080/",
          "height": 158
        },
        "outputId": "0618714e-27a5-4db1-c4df-332ef94ad7b5"
      },
      "source": [
        "deu_eng"
      ],
      "execution_count": 26,
      "outputs": [
        {
          "output_type": "execute_result",
          "data": {
            "text/plain": [
              "array([['hi', 'hallo'],\n",
              "       ['hi', 'grüß gott'],\n",
              "       ['run', 'lauf'],\n",
              "       ...,\n",
              "       ['i wholeheartedly agree', 'ich stimme rückhaltlos zu'],\n",
              "       ['i will always love you', 'ich werde dich immer lieben'],\n",
              "       ['i will be back by nine', 'um neun bin ich wieder zurück']],\n",
              "      dtype='<U537')"
            ]
          },
          "metadata": {
            "tags": []
          },
          "execution_count": 26
        }
      ]
    },
    {
      "cell_type": "markdown",
      "metadata": {
        "id": "W46Vs29wY2S_",
        "colab_type": "text"
      },
      "source": [
        "\n",
        "Text to Sequence Conversion\n",
        "To feed our data in a Seq2Seq model, we will have to convert both the input and the output sentences into integer sequences of fixed length. Before that, let's visualise the length of the sentences. We will capture the lengths of all the sentences in two separate lists for English and German, respectively"
      ]
    },
    {
      "cell_type": "code",
      "metadata": {
        "id": "RCK5tgV1Yu-x",
        "colab_type": "code",
        "colab": {}
      },
      "source": [
        "# empty lists\n",
        "eng_l = []\n",
        "deu_l = []\n",
        "\n",
        "# populate the lists with sentence lengths\n",
        "for i in deu_eng[:,0]:\n",
        "    eng_l.append(len(i.split()))\n",
        "\n",
        "for i in deu_eng[:,1]:\n",
        "    deu_l.append(len(i.split()))"
      ],
      "execution_count": 0,
      "outputs": []
    },
    {
      "cell_type": "code",
      "metadata": {
        "id": "62UXvf8UY5N-",
        "colab_type": "code",
        "colab": {
          "base_uri": "https://localhost:8080/",
          "height": 52
        },
        "outputId": "224b3ed2-a9f4-4864-8194-1c4f6629e552"
      },
      "source": [
        "length_df= pd.DataFrame({'eng': eng_l , 'deu':deu_l})\n",
        "length_df\n",
        "print(\"Length of Eng_sentence\",max(eng_l))\n",
        "print(\"Length of German_sentence\",max(deu_l))"
      ],
      "execution_count": 28,
      "outputs": [
        {
          "output_type": "stream",
          "text": [
            "Length of Eng_sentence 7\n",
            "Length of German_sentence 15\n"
          ],
          "name": "stdout"
        }
      ]
    },
    {
      "cell_type": "code",
      "metadata": {
        "id": "-e2a_sLWY76U",
        "colab_type": "code",
        "colab": {
          "base_uri": "https://localhost:8080/",
          "height": 281
        },
        "outputId": "69e993f6-565f-4dae-86d0-a96d4ebeae58"
      },
      "source": [
        "length_df.hist(bins=30)\n",
        "plt.show()"
      ],
      "execution_count": 29,
      "outputs": [
        {
          "output_type": "display_data",
          "data": {
            "image/png": "[encoded data removed]",
            "text/plain": [
              "<Figure size 432x288 with 2 Axes>"
            ]
          },
          "metadata": {
            "tags": [],
            "needs_background": "light"
          }
        }
      ]
    },
    {
      "cell_type": "markdown",
      "metadata": {
        "id": "sjV-HPfDZTXl",
        "colab_type": "text"
      },
      "source": [
        "\n",
        "The maximum length of the German sentences is 10 and that of the English phrases is 5.\n",
        "\n",
        "Let's vectorize our text data by using Keras's Tokenizer() class. It will turn our sentences into sequences of integers. Then we will pad those sequences with zeros to make all the sequences of same length.\n"
      ]
    },
    {
      "cell_type": "code",
      "metadata": {
        "id": "Si0JH_ZNZSTe",
        "colab_type": "code",
        "colab": {}
      },
      "source": [
        "# function to build a tokenizer\n",
        "def tokenization(lines):\n",
        "    tokenizer = Tokenizer()\n",
        "    tokenizer.fit_on_texts(lines)\n",
        "    return tokenizer"
      ],
      "execution_count": 0,
      "outputs": []
    },
    {
      "cell_type": "code",
      "metadata": {
        "id": "eSdkFtFJZXLy",
        "colab_type": "code",
        "colab": {
          "base_uri": "https://localhost:8080/",
          "height": 34
        },
        "outputId": "50058dde-7cf8-4c75-f3bd-13e172359d82"
      },
      "source": [
        "# prepare english tokenizer\n",
        "eng_tokenizer = tokenization(deu_eng[:, 0])\n",
        "eng_vocab_size = len(eng_tokenizer.word_index) + 1\n",
        "\n",
        "eng_length = 5\n",
        "print('English Vocabulary Size: %d' % eng_vocab_size)\n"
      ],
      "execution_count": 33,
      "outputs": [
        {
          "output_type": "stream",
          "text": [
            "English Vocabulary Size: 6361\n"
          ],
          "name": "stdout"
        }
      ]
    },
    {
      "cell_type": "code",
      "metadata": {
        "id": "p25yS1qzZaCd",
        "colab_type": "code",
        "colab": {
          "base_uri": "https://localhost:8080/",
          "height": 34
        },
        "outputId": "2d6a6fa8-64ec-415e-e70f-0c036217237a"
      },
      "source": [
        "# prepare Deutch tokenizer\n",
        "deu_tokenizer = tokenization(deu_eng[:, 1])\n",
        "deu_vocab_size = len(deu_tokenizer.word_index) + 1\n",
        "\n",
        "deu_length = 10\n",
        "print('Deutch Vocabulary Size: %d' % deu_vocab_size)"
      ],
      "execution_count": 34,
      "outputs": [
        {
          "output_type": "stream",
          "text": [
            "Deutch Vocabulary Size: 10597\n"
          ],
          "name": "stdout"
        }
      ]
    },
    {
      "cell_type": "markdown",
      "metadata": {
        "id": "Zpdt2s1HZjT7",
        "colab_type": "text"
      },
      "source": [
        " Function to prepare the sequences, It will also perform sequence padding to a maximum sentence length as mentioned above."
      ]
    },
    {
      "cell_type": "code",
      "metadata": {
        "id": "K7kLRsiGZgF5",
        "colab_type": "code",
        "colab": {}
      },
      "source": [
        "# encode and pad sequences\n",
        "def encode_sequences(tokenizer, length, lines):\n",
        "    # integer encode sequences\n",
        "    seq = tokenizer.texts_to_sequences(lines)\n",
        "    # pad sequences with 0 values\n",
        "    seq = pad_sequences(seq, maxlen=length, padding='post')\n",
        "    return seq"
      ],
      "execution_count": 0,
      "outputs": []
    },
    {
      "cell_type": "code",
      "metadata": {
        "id": "ie53ynFXZslY",
        "colab_type": "code",
        "colab": {}
      },
      "source": [
        "# Model Building\n",
        "#now split the data into train and test set for model training and evaluation, respectively.\n",
        "\n",
        "\n",
        "from sklearn.model_selection import train_test_split\n",
        "train, test = train_test_split(deu_eng, test_size=0.2, random_state = 12)"
      ],
      "execution_count": 0,
      "outputs": []
    },
    {
      "cell_type": "markdown",
      "metadata": {
        "id": "uxk0vLV0ZxSY",
        "colab_type": "text"
      },
      "source": [
        "# Model Building\n",
        "#now split the data into train and test set for model training and evaluation, respectively.\n",
        "\n",
        "\n"
      ]
    },
    {
      "cell_type": "markdown",
      "metadata": {
        "id": "IGfBvnZPZxPm",
        "colab_type": "text"
      },
      "source": [
        ""
      ]
    },
    {
      "cell_type": "code",
      "metadata": {
        "id": "4xgPTeFxZuYz",
        "colab_type": "code",
        "colab": {}
      },
      "source": [
        "from sklearn.model_selection import train_test_split\n",
        "train, test = train_test_split(deu_eng, test_size=0.2, random_state = 12)"
      ],
      "execution_count": 0,
      "outputs": []
    },
    {
      "cell_type": "markdown",
      "metadata": {
        "id": "ZndRScmwZ-Uc",
        "colab_type": "text"
      },
      "source": [
        "Now encode the sentences. We will encode German sentences as the input sequences and English sentences as the target sequences. It will be done for both train and test datasets."
      ]
    },
    {
      "cell_type": "code",
      "metadata": {
        "id": "zT04ab-cZyYo",
        "colab_type": "code",
        "colab": {
          "base_uri": "https://localhost:8080/",
          "height": 52
        },
        "outputId": "7df4f336-ffa0-4354-e8d1-748d74db667d"
      },
      "source": [
        "# prepare training data\n",
        "trainX = encode_sequences(deu_tokenizer, deu_length, train[:, 1])\n",
        "trainY = encode_sequences(eng_tokenizer, eng_length, train[:, 0])\n",
        "print(\"trainx\",trainX.shape)\n",
        "print(\"trainY\",trainY.shape)"
      ],
      "execution_count": 44,
      "outputs": [
        {
          "output_type": "stream",
          "text": [
            "trainx (40000, 10)\n",
            "trainY (40000, 5)\n"
          ],
          "name": "stdout"
        }
      ]
    },
    {
      "cell_type": "code",
      "metadata": {
        "id": "xYuC_LlHaCx6",
        "colab_type": "code",
        "colab": {}
      },
      "source": [
        "# prepare validation data\n",
        "testX = encode_sequences(deu_tokenizer, deu_length, test[:, 1])\n",
        "testY = encode_sequences(eng_tokenizer, eng_length, test[:, 0])"
      ],
      "execution_count": 0,
      "outputs": []
    },
    {
      "cell_type": "markdown",
      "metadata": {
        "id": "ODnXeB3naFSk",
        "colab_type": "text"
      },
      "source": [
        "Let us define our Seq2Seq model architecture. We are using an Embedding layer and an LSTM layer as our encoder and another LSTM layer followed by a Dense layer as the decoder."
      ]
    },
    {
      "cell_type": "code",
      "metadata": {
        "id": "j12I6n6paDRE",
        "colab_type": "code",
        "colab": {}
      },
      "source": [
        "# build NMT model\n",
        "def build_model(in_vocab, out_vocab, in_timesteps, out_timesteps, units):\n",
        "    model = Sequential()\n",
        "    model.add(Embedding(in_vocab, units, input_length=in_timesteps, mask_zero=True))\n",
        "    model.add(LSTM(units))\n",
        "    model.add(RepeatVector(out_timesteps))\n",
        "    model.add(LSTM(units, return_sequences=True))\n",
        "    model.add(Dense(out_vocab, activation='softmax'))\n",
        "    return model"
      ],
      "execution_count": 0,
      "outputs": []
    },
    {
      "cell_type": "code",
      "metadata": {
        "id": "T1M7d9buaIVR",
        "colab_type": "code",
        "colab": {
          "base_uri": "https://localhost:8080/",
          "height": 354
        },
        "outputId": "31bf6d70-07e3-44fa-9544-44800af25a47"
      },
      "source": [
        "model = build_model(deu_vocab_size, eng_vocab_size, deu_length, eng_length, 512)\n",
        "rms = optimizers.RMSprop(lr=0.001)\n",
        "model.compile(optimizer=rms, loss='sparse_categorical_crossentropy')\n",
        "print(trainX.shape)\n",
        "model.summary()"
      ],
      "execution_count": 45,
      "outputs": [
        {
          "output_type": "stream",
          "text": [
            "(40000, 10)\n",
            "Model: \"sequential_3\"\n",
            "_________________________________________________________________\n",
            "Layer (type)                 Output Shape              Param #   \n",
            "=================================================================\n",
            "embedding_3 (Embedding)      (None, 10, 512)           5425664   \n",
            "_________________________________________________________________\n",
            "lstm_5 (LSTM)                (None, 512)               2099200   \n",
            "_________________________________________________________________\n",
            "repeat_vector_3 (RepeatVecto (None, 5, 512)            0         \n",
            "_________________________________________________________________\n",
            "lstm_6 (LSTM)                (None, 5, 512)            2099200   \n",
            "_________________________________________________________________\n",
            "dense_3 (Dense)              (None, 5, 6361)           3263193   \n",
            "=================================================================\n",
            "Total params: 12,887,257\n",
            "Trainable params: 12,887,257\n",
            "Non-trainable params: 0\n",
            "_________________________________________________________________\n"
          ],
          "name": "stdout"
        }
      ]
    },
    {
      "cell_type": "code",
      "metadata": {
        "id": "cONob-praaW4",
        "colab_type": "code",
        "colab": {
          "base_uri": "https://localhost:8080/",
          "height": 1000
        },
        "outputId": "62a661c2-cf47-471f-f4ad-fd856f9d24aa"
      },
      "source": [
        "\n",
        "filename = 'model.h1.30_May_20'\n",
        "checkpoint = ModelCheckpoint(filename, monitor='val_loss', verbose=1, save_best_only=True, mode='min')\n",
        "\n",
        "history = model.fit(trainX, trainY.reshape(trainY.shape[0], trainY.shape[1], 1), \n",
        "          epochs=30, batch_size=512, \n",
        "          validation_split = 0.2,\n",
        "          callbacks=[checkpoint], verbose=1)"
      ],
      "execution_count": 47,
      "outputs": [
        {
          "output_type": "stream",
          "text": [
            "/usr/local/lib/python3.6/dist-packages/tensorflow/python/framework/indexed_slices.py:434: UserWarning: Converting sparse IndexedSlices to a dense Tensor of unknown shape. This may consume a large amount of memory.\n",
            "  \"Converting sparse IndexedSlices to a dense Tensor of unknown shape. \"\n"
          ],
          "name": "stderr"
        },
        {
          "output_type": "stream",
          "text": [
            "Train on 32000 samples, validate on 8000 samples\n",
            "Epoch 1/30\n",
            "32000/32000 [==============================] - 201s 6ms/step - loss: 5.1016 - val_loss: 4.6170\n",
            "\n",
            "Epoch 00001: val_loss improved from inf to 4.61704, saving model to model.h1.30_May_20\n",
            "Epoch 2/30\n",
            "32000/32000 [==============================] - 196s 6ms/step - loss: 4.4501 - val_loss: 4.4477\n",
            "\n",
            "Epoch 00002: val_loss improved from 4.61704 to 4.44775, saving model to model.h1.30_May_20\n",
            "Epoch 3/30\n",
            "32000/32000 [==============================] - 196s 6ms/step - loss: 4.1336 - val_loss: 4.1509\n",
            "\n",
            "Epoch 00003: val_loss improved from 4.44775 to 4.15085, saving model to model.h1.30_May_20\n",
            "Epoch 4/30\n",
            "32000/32000 [==============================] - 198s 6ms/step - loss: 3.8795 - val_loss: 3.9488\n",
            "\n",
            "Epoch 00004: val_loss improved from 4.15085 to 3.94883, saving model to model.h1.30_May_20\n",
            "Epoch 5/30\n",
            "32000/32000 [==============================] - 198s 6ms/step - loss: 3.6796 - val_loss: 3.8180\n",
            "\n",
            "Epoch 00005: val_loss improved from 3.94883 to 3.81801, saving model to model.h1.30_May_20\n",
            "Epoch 6/30\n",
            "32000/32000 [==============================] - 200s 6ms/step - loss: 3.5016 - val_loss: 3.7465\n",
            "\n",
            "Epoch 00006: val_loss improved from 3.81801 to 3.74650, saving model to model.h1.30_May_20\n",
            "Epoch 7/30\n",
            "32000/32000 [==============================] - 201s 6ms/step - loss: 3.3218 - val_loss: 3.5802\n",
            "\n",
            "Epoch 00007: val_loss improved from 3.74650 to 3.58020, saving model to model.h1.30_May_20\n",
            "Epoch 8/30\n",
            "32000/32000 [==============================] - 199s 6ms/step - loss: 3.1550 - val_loss: 3.4311\n",
            "\n",
            "Epoch 00008: val_loss improved from 3.58020 to 3.43105, saving model to model.h1.30_May_20\n",
            "Epoch 9/30\n",
            "32000/32000 [==============================] - 200s 6ms/step - loss: 2.9981 - val_loss: 3.3179\n",
            "\n",
            "Epoch 00009: val_loss improved from 3.43105 to 3.31794, saving model to model.h1.30_May_20\n",
            "Epoch 10/30\n",
            "32000/32000 [==============================] - 198s 6ms/step - loss: 2.8437 - val_loss: 3.2280\n",
            "\n",
            "Epoch 00010: val_loss improved from 3.31794 to 3.22800, saving model to model.h1.30_May_20\n",
            "Epoch 11/30\n",
            "32000/32000 [==============================] - 197s 6ms/step - loss: 2.6949 - val_loss: 3.1187\n",
            "\n",
            "Epoch 00011: val_loss improved from 3.22800 to 3.11867, saving model to model.h1.30_May_20\n",
            "Epoch 12/30\n",
            "32000/32000 [==============================] - 199s 6ms/step - loss: 2.5457 - val_loss: 3.0310\n",
            "\n",
            "Epoch 00012: val_loss improved from 3.11867 to 3.03104, saving model to model.h1.30_May_20\n",
            "Epoch 13/30\n",
            "32000/32000 [==============================] - 201s 6ms/step - loss: 2.4028 - val_loss: 2.9264\n",
            "\n",
            "Epoch 00013: val_loss improved from 3.03104 to 2.92639, saving model to model.h1.30_May_20\n",
            "Epoch 14/30\n",
            "32000/32000 [==============================] - 197s 6ms/step - loss: 2.2607 - val_loss: 2.8610\n",
            "\n",
            "Epoch 00014: val_loss improved from 2.92639 to 2.86100, saving model to model.h1.30_May_20\n",
            "Epoch 15/30\n",
            "32000/32000 [==============================] - 194s 6ms/step - loss: 2.1275 - val_loss: 2.7820\n",
            "\n",
            "Epoch 00015: val_loss improved from 2.86100 to 2.78200, saving model to model.h1.30_May_20\n",
            "Epoch 16/30\n",
            "32000/32000 [==============================] - 199s 6ms/step - loss: 2.0013 - val_loss: 2.7078\n",
            "\n",
            "Epoch 00016: val_loss improved from 2.78200 to 2.70776, saving model to model.h1.30_May_20\n",
            "Epoch 17/30\n",
            "32000/32000 [==============================] - 197s 6ms/step - loss: 1.8784 - val_loss: 2.6514\n",
            "\n",
            "Epoch 00017: val_loss improved from 2.70776 to 2.65142, saving model to model.h1.30_May_20\n",
            "Epoch 18/30\n",
            "32000/32000 [==============================] - 197s 6ms/step - loss: 1.7617 - val_loss: 2.5810\n",
            "\n",
            "Epoch 00018: val_loss improved from 2.65142 to 2.58100, saving model to model.h1.30_May_20\n",
            "Epoch 19/30\n",
            "32000/32000 [==============================] - 199s 6ms/step - loss: 1.6482 - val_loss: 2.5419\n",
            "\n",
            "Epoch 00019: val_loss improved from 2.58100 to 2.54191, saving model to model.h1.30_May_20\n",
            "Epoch 20/30\n",
            "32000/32000 [==============================] - 195s 6ms/step - loss: 1.5441 - val_loss: 2.5139\n",
            "\n",
            "Epoch 00020: val_loss improved from 2.54191 to 2.51394, saving model to model.h1.30_May_20\n",
            "Epoch 21/30\n",
            "32000/32000 [==============================] - 198s 6ms/step - loss: 1.4388 - val_loss: 2.4685\n",
            "\n",
            "Epoch 00021: val_loss improved from 2.51394 to 2.46854, saving model to model.h1.30_May_20\n",
            "Epoch 22/30\n",
            "32000/32000 [==============================] - 198s 6ms/step - loss: 1.3422 - val_loss: 2.4164\n",
            "\n",
            "Epoch 00022: val_loss improved from 2.46854 to 2.41640, saving model to model.h1.30_May_20\n",
            "Epoch 23/30\n",
            "32000/32000 [==============================] - 198s 6ms/step - loss: 1.2520 - val_loss: 2.4068\n",
            "\n",
            "Epoch 00023: val_loss improved from 2.41640 to 2.40678, saving model to model.h1.30_May_20\n",
            "Epoch 24/30\n",
            "32000/32000 [==============================] - 196s 6ms/step - loss: 1.1628 - val_loss: 2.3720\n",
            "\n",
            "Epoch 00024: val_loss improved from 2.40678 to 2.37197, saving model to model.h1.30_May_20\n",
            "Epoch 25/30\n",
            "32000/32000 [==============================] - 196s 6ms/step - loss: 1.0796 - val_loss: 2.3445\n",
            "\n",
            "Epoch 00025: val_loss improved from 2.37197 to 2.34450, saving model to model.h1.30_May_20\n",
            "Epoch 26/30\n",
            "32000/32000 [==============================] - 194s 6ms/step - loss: 0.9981 - val_loss: 2.3200\n",
            "\n",
            "Epoch 00026: val_loss improved from 2.34450 to 2.31996, saving model to model.h1.30_May_20\n",
            "Epoch 27/30\n",
            "32000/32000 [==============================] - 193s 6ms/step - loss: 0.9235 - val_loss: 2.3166\n",
            "\n",
            "Epoch 00027: val_loss improved from 2.31996 to 2.31664, saving model to model.h1.30_May_20\n",
            "Epoch 28/30\n",
            "32000/32000 [==============================] - 195s 6ms/step - loss: 0.8527 - val_loss: 2.3074\n",
            "\n",
            "Epoch 00028: val_loss improved from 2.31664 to 2.30736, saving model to model.h1.30_May_20\n",
            "Epoch 29/30\n",
            "32000/32000 [==============================] - 195s 6ms/step - loss: 0.7843 - val_loss: 2.2693\n",
            "\n",
            "Epoch 00029: val_loss improved from 2.30736 to 2.26929, saving model to model.h1.30_May_20\n",
            "Epoch 30/30\n",
            "32000/32000 [==============================] - 195s 6ms/step - loss: 0.7240 - val_loss: 2.2508\n",
            "\n",
            "Epoch 00030: val_loss improved from 2.26929 to 2.25084, saving model to model.h1.30_May_20\n"
          ],
          "name": "stdout"
        }
      ]
    },
    {
      "cell_type": "code",
      "metadata": {
        "id": "Vj7aSRN5aip5",
        "colab_type": "code",
        "colab": {
          "base_uri": "https://localhost:8080/",
          "height": 264
        },
        "outputId": "e2677843-4fe6-4e09-c396-939419151fc9"
      },
      "source": [
        "plt.plot(history.history['loss'])\n",
        "plt.plot(history.history['val_loss'])\n",
        "plt.legend(['train','validation'])\n",
        "plt.show()"
      ],
      "execution_count": 49,
      "outputs": [
        {
          "output_type": "display_data",
          "data": {
            "image/png": "[encoded data removed]",
            "text/plain": [
              "<Figure size 432x288 with 1 Axes>"
            ]
          },
          "metadata": {
            "tags": [],
            "needs_background": "light"
          }
        }
      ]
    },
    {
      "cell_type": "markdown",
      "metadata": {
        "id": "gt30yvfkxXRL",
        "colab_type": "text"
      },
      "source": [
        "Make Predictions \n",
        "\n",
        "Let's load the saved model to make predictions"
      ]
    },
    {
      "cell_type": "code",
      "metadata": {
        "id": "z-TuPox0wvGS",
        "colab_type": "code",
        "colab": {
          "base_uri": "https://localhost:8080/",
          "height": 196
        },
        "outputId": "70b6347a-2c6f-4e0d-e5cb-71e56b23054c"
      },
      "source": [
        "model = load_model('model.h1.30_May_20')\n",
        "preds = model.predict_classes(testX.reshape((testX.shape[0],testX.shape[1])))\n",
        "preds"
      ],
      "execution_count": 50,
      "outputs": [
        {
          "output_type": "stream",
          "text": [
            "/usr/local/lib/python3.6/dist-packages/tensorflow/python/framework/indexed_slices.py:434: UserWarning: Converting sparse IndexedSlices to a dense Tensor of unknown shape. This may consume a large amount of memory.\n",
            "  \"Converting sparse IndexedSlices to a dense Tensor of unknown shape. \"\n"
          ],
          "name": "stderr"
        },
        {
          "output_type": "execute_result",
          "data": {
            "text/plain": [
              "array([[  3, 102, 159,  61,   0],\n",
              "       [  2,  73, 133,   0,   0],\n",
              "       [  2, 356,  96,   1,   0],\n",
              "       ...,\n",
              "       [  1,   4,   5,  85, 794],\n",
              "       [ 54, 175,   3,  68,   0],\n",
              "       [ 39,  27,  20,  87,   1]])"
            ]
          },
          "metadata": {
            "tags": []
          },
          "execution_count": 50
        }
      ]
    },
    {
      "cell_type": "code",
      "metadata": {
        "id": "wPhU_Ry9xadv",
        "colab_type": "code",
        "colab": {}
      },
      "source": [
        "def get_word(n, tokenizer):\n",
        "    for word, index in tokenizer.word_index.items():\n",
        "        if index == n:\n",
        "            return word\n",
        "    return None"
      ],
      "execution_count": 0,
      "outputs": []
    },
    {
      "cell_type": "code",
      "metadata": {
        "id": "I4kvMVhSxdkm",
        "colab_type": "code",
        "colab": {}
      },
      "source": [
        "# convert predictions into text (English)\n",
        "preds_text = []\n",
        "for i in preds:\n",
        "    temp = []\n",
        "    for j in range(len(i)):\n",
        "        t = get_word(i[j], eng_tokenizer)\n",
        "        if j > 0:\n",
        "            if (t == get_word(i[j-1], eng_tokenizer)) or (t == None):\n",
        "                temp.append('')\n",
        "            else:\n",
        "                temp.append(t)\n",
        "             \n",
        "        else:\n",
        "            if(t == None):\n",
        "                temp.append('')\n",
        "            else:\n",
        "                temp.append(t)            \n",
        "        \n",
        "    preds_text.append(' '.join(temp))"
      ],
      "execution_count": 0,
      "outputs": []
    },
    {
      "cell_type": "code",
      "metadata": {
        "id": "6yisrTW-xfnn",
        "colab_type": "code",
        "colab": {}
      },
      "source": [
        "pred_df = pd.DataFrame({'actual' : test[:,0], 'predicted' : preds_text})"
      ],
      "execution_count": 0,
      "outputs": []
    },
    {
      "cell_type": "code",
      "metadata": {
        "id": "460Evfonxh6W",
        "colab_type": "code",
        "colab": {}
      },
      "source": [
        "pd.set_option('display.max_colwidth', 100)"
      ],
      "execution_count": 0,
      "outputs": []
    },
    {
      "cell_type": "code",
      "metadata": {
        "id": "vk2Qm75zxj-k",
        "colab_type": "code",
        "colab": {
          "base_uri": "https://localhost:8080/",
          "height": 497
        },
        "outputId": "5f088e5a-49e9-4832-80d2-87b8347544d7"
      },
      "source": [
        "pred_df.head(15)"
      ],
      "execution_count": 55,
      "outputs": [
        {
          "output_type": "execute_result",
          "data": {
            "text/html": [
              "<div>\n",
              "<style scoped>\n",
              "    .dataframe tbody tr th:only-of-type {\n",
              "        vertical-align: middle;\n",
              "    }\n",
              "\n",
              "    .dataframe tbody tr th {\n",
              "        vertical-align: top;\n",
              "    }\n",
              "\n",
              "    .dataframe thead th {\n",
              "        text-align: right;\n",
              "    }\n",
              "</style>\n",
              "<table border=\"1\" class=\"dataframe\">\n",
              "  <thead>\n",
              "    <tr style=\"text-align: right;\">\n",
              "      <th></th>\n",
              "      <th>actual</th>\n",
              "      <th>predicted</th>\n",
              "    </tr>\n",
              "  </thead>\n",
              "  <tbody>\n",
              "    <tr>\n",
              "      <th>0</th>\n",
              "      <td>you need to wake up</td>\n",
              "      <td>you must stay now</td>\n",
              "    </tr>\n",
              "    <tr>\n",
              "      <th>1</th>\n",
              "      <td>i feel old</td>\n",
              "      <td>i am bad</td>\n",
              "    </tr>\n",
              "    <tr>\n",
              "      <th>2</th>\n",
              "      <td>im sorry tom</td>\n",
              "      <td>i sorry about tom</td>\n",
              "    </tr>\n",
              "    <tr>\n",
              "      <th>3</th>\n",
              "      <td>hide the money</td>\n",
              "      <td>is the money</td>\n",
              "    </tr>\n",
              "    <tr>\n",
              "      <th>4</th>\n",
              "      <td>is someone calling me</td>\n",
              "      <td>let me</td>\n",
              "    </tr>\n",
              "    <tr>\n",
              "      <th>5</th>\n",
              "      <td>you should work hard</td>\n",
              "      <td>you should work hard</td>\n",
              "    </tr>\n",
              "    <tr>\n",
              "      <th>6</th>\n",
              "      <td>tom has a big problem</td>\n",
              "      <td>tom has a bad nose</td>\n",
              "    </tr>\n",
              "    <tr>\n",
              "      <th>7</th>\n",
              "      <td>he lives with his mom</td>\n",
              "      <td>he lives her</td>\n",
              "    </tr>\n",
              "    <tr>\n",
              "      <th>8</th>\n",
              "      <td>whats toms job</td>\n",
              "      <td>whats your job</td>\n",
              "    </tr>\n",
              "    <tr>\n",
              "      <th>9</th>\n",
              "      <td>i dont want to drive</td>\n",
              "      <td>i dont want to go</td>\n",
              "    </tr>\n",
              "    <tr>\n",
              "      <th>10</th>\n",
              "      <td>tom will fail</td>\n",
              "      <td>tom will</td>\n",
              "    </tr>\n",
              "    <tr>\n",
              "      <th>11</th>\n",
              "      <td>tom phoned</td>\n",
              "      <td>tom is</td>\n",
              "    </tr>\n",
              "    <tr>\n",
              "      <th>12</th>\n",
              "      <td>lock the door</td>\n",
              "      <td>open the door</td>\n",
              "    </tr>\n",
              "    <tr>\n",
              "      <th>13</th>\n",
              "      <td>its not good</td>\n",
              "      <td>it not good</td>\n",
              "    </tr>\n",
              "    <tr>\n",
              "      <th>14</th>\n",
              "      <td>i love soul food</td>\n",
              "      <td>i love</td>\n",
              "    </tr>\n",
              "  </tbody>\n",
              "</table>\n",
              "</div>"
            ],
            "text/plain": [
              "                   actual              predicted\n",
              "0     you need to wake up     you must stay now \n",
              "1              i feel old             i am bad  \n",
              "2            im sorry tom     i sorry about tom \n",
              "3          hide the money         is the money  \n",
              "4   is someone calling me              let me   \n",
              "5    you should work hard  you should work hard \n",
              "6   tom has a big problem     tom has a bad nose\n",
              "7   he lives with his mom         he lives her  \n",
              "8          whats toms job       whats your job  \n",
              "9    i dont want to drive      i dont want to go\n",
              "10          tom will fail            tom will   \n",
              "11             tom phoned              tom is   \n",
              "12          lock the door        open the door  \n",
              "13           its not good          it not good  \n",
              "14       i love soul food              i love   "
            ]
          },
          "metadata": {
            "tags": []
          },
          "execution_count": 55
        }
      ]
    },
    {
      "cell_type": "code",
      "metadata": {
        "id": "C2R_JyzZxl1H",
        "colab_type": "code",
        "colab": {}
      },
      "source": [
        ""
      ],
      "execution_count": 0,
      "outputs": []
    }
  ]
}